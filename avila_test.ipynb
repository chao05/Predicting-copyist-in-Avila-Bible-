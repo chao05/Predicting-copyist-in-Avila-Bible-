{
 "cells": [
  {
   "cell_type": "code",
   "execution_count": 94,
   "metadata": {},
   "outputs": [],
   "source": [
    "import pandas as pd\n",
    "import numpy as np\n",
    "from scipy.io import arff\n",
    "from scipy.stats import iqr\n",
    "\n",
    "import os\n",
    "import math\n",
    "\n",
    "import matplotlib.pyplot as plt\n",
    "import matplotlib.colors as mcolors\n",
    "import seaborn as sns\n",
    "\n",
    "from numpy import mean\n",
    "from numpy import std\n",
    "\n",
    "from sklearn.preprocessing import normalize\n",
    "from sklearn.preprocessing import scale\n",
    "from sklearn.preprocessing import OrdinalEncoder\n",
    "from sklearn.preprocessing import LabelEncoder\n",
    "from sklearn.preprocessing import OneHotEncoder\n",
    "from sklearn.feature_selection import f_regression\n",
    "from sklearn.feature_selection import f_classif\n",
    "from sklearn.feature_selection import mutual_info_classif\n",
    "from sklearn.feature_selection import mutual_info_regression\n",
    "from sklearn.feature_selection import RFE\n",
    "from sklearn.discriminant_analysis import LinearDiscriminantAnalysis\n",
    "from sklearn.decomposition import PCA\n",
    "from sklearn.neighbors import KNeighborsClassifier\n",
    "from sklearn.svm import SVC\n",
    "from sklearn.linear_model import LogisticRegression\n",
    "from sklearn.tree import DecisionTreeClassifier\n",
    "from sklearn.ensemble import RandomForestClassifier\n",
    "from sklearn.model_selection import cross_val_score\n",
    "from sklearn.model_selection import learning_curve\n",
    "from sklearn.model_selection import validation_curve\n",
    "from sklearn.model_selection import StratifiedKFold\n",
    "from sklearn.metrics import classification_report\n",
    "\n",
    "import joblib"
   ]
  },
  {
   "cell_type": "markdown",
   "metadata": {},
   "source": [
    "Load the dataset and check its shape."
   ]
  },
  {
   "cell_type": "code",
   "execution_count": 95,
   "metadata": {},
   "outputs": [
    {
     "data": {
      "text/html": [
       "<div>\n",
       "<style scoped>\n",
       "    .dataframe tbody tr th:only-of-type {\n",
       "        vertical-align: middle;\n",
       "    }\n",
       "\n",
       "    .dataframe tbody tr th {\n",
       "        vertical-align: top;\n",
       "    }\n",
       "\n",
       "    .dataframe thead th {\n",
       "        text-align: right;\n",
       "    }\n",
       "</style>\n",
       "<table border=\"1\" class=\"dataframe\">\n",
       "  <thead>\n",
       "    <tr style=\"text-align: right;\">\n",
       "      <th></th>\n",
       "      <th>intercolumnar distance</th>\n",
       "      <th>upper margin</th>\n",
       "      <th>lower margin</th>\n",
       "      <th>exploitation</th>\n",
       "      <th>row number</th>\n",
       "      <th>modular ratio</th>\n",
       "      <th>interlinear spacing</th>\n",
       "      <th>weight</th>\n",
       "      <th>peak number</th>\n",
       "      <th>modular ratio/ interlinear spacing</th>\n",
       "      <th>class</th>\n",
       "    </tr>\n",
       "  </thead>\n",
       "  <tbody>\n",
       "    <tr>\n",
       "      <th>0</th>\n",
       "      <td>-3.498799</td>\n",
       "      <td>0.250492</td>\n",
       "      <td>0.232070</td>\n",
       "      <td>1.224178</td>\n",
       "      <td>-4.922215</td>\n",
       "      <td>1.145386</td>\n",
       "      <td>0.182426</td>\n",
       "      <td>-0.165983</td>\n",
       "      <td>-0.123005</td>\n",
       "      <td>1.087144</td>\n",
       "      <td>W</td>\n",
       "    </tr>\n",
       "    <tr>\n",
       "      <th>1</th>\n",
       "      <td>0.204355</td>\n",
       "      <td>-0.354049</td>\n",
       "      <td>0.320980</td>\n",
       "      <td>0.410166</td>\n",
       "      <td>-0.989576</td>\n",
       "      <td>-2.218127</td>\n",
       "      <td>0.220177</td>\n",
       "      <td>0.181844</td>\n",
       "      <td>2.090879</td>\n",
       "      <td>-2.009758</td>\n",
       "      <td>A</td>\n",
       "    </tr>\n",
       "    <tr>\n",
       "      <th>2</th>\n",
       "      <td>0.759828</td>\n",
       "      <td>-1.304042</td>\n",
       "      <td>-0.023991</td>\n",
       "      <td>-0.973663</td>\n",
       "      <td>-0.006417</td>\n",
       "      <td>-0.349509</td>\n",
       "      <td>-0.421580</td>\n",
       "      <td>-0.450127</td>\n",
       "      <td>0.469443</td>\n",
       "      <td>0.060952</td>\n",
       "      <td>I</td>\n",
       "    </tr>\n",
       "    <tr>\n",
       "      <th>3</th>\n",
       "      <td>-0.005490</td>\n",
       "      <td>0.360409</td>\n",
       "      <td>0.281860</td>\n",
       "      <td>-0.213479</td>\n",
       "      <td>-1.168333</td>\n",
       "      <td>-1.013906</td>\n",
       "      <td>-0.346080</td>\n",
       "      <td>1.176165</td>\n",
       "      <td>0.968347</td>\n",
       "      <td>-0.627999</td>\n",
       "      <td>E</td>\n",
       "    </tr>\n",
       "    <tr>\n",
       "      <th>4</th>\n",
       "      <td>0.080916</td>\n",
       "      <td>0.101320</td>\n",
       "      <td>0.104040</td>\n",
       "      <td>0.140490</td>\n",
       "      <td>0.261718</td>\n",
       "      <td>0.480988</td>\n",
       "      <td>0.710932</td>\n",
       "      <td>-0.253430</td>\n",
       "      <td>-0.497183</td>\n",
       "      <td>0.155681</td>\n",
       "      <td>A</td>\n",
       "    </tr>\n",
       "  </tbody>\n",
       "</table>\n",
       "</div>"
      ],
      "text/plain": [
       "   intercolumnar distance  upper margin  lower margin  exploitation  \\\n",
       "0               -3.498799      0.250492      0.232070      1.224178   \n",
       "1                0.204355     -0.354049      0.320980      0.410166   \n",
       "2                0.759828     -1.304042     -0.023991     -0.973663   \n",
       "3               -0.005490      0.360409      0.281860     -0.213479   \n",
       "4                0.080916      0.101320      0.104040      0.140490   \n",
       "\n",
       "   row number  modular ratio  interlinear spacing    weight  peak number  \\\n",
       "0   -4.922215       1.145386             0.182426 -0.165983    -0.123005   \n",
       "1   -0.989576      -2.218127             0.220177  0.181844     2.090879   \n",
       "2   -0.006417      -0.349509            -0.421580 -0.450127     0.469443   \n",
       "3   -1.168333      -1.013906            -0.346080  1.176165     0.968347   \n",
       "4    0.261718       0.480988             0.710932 -0.253430    -0.497183   \n",
       "\n",
       "   modular ratio/ interlinear spacing class  \n",
       "0                            1.087144     W  \n",
       "1                           -2.009758     A  \n",
       "2                            0.060952     I  \n",
       "3                           -0.627999     E  \n",
       "4                            0.155681     A  "
      ]
     },
     "execution_count": 95,
     "metadata": {},
     "output_type": "execute_result"
    }
   ],
   "source": [
    "names = ['intercolumnar distance', 'upper margin', \n",
    "         'lower margin', 'exploitation', 'row number', \n",
    "         'modular ratio', 'interlinear spacing', 'weight', \n",
    "         'peak number', 'modular ratio/ interlinear spacing', 'class']\n",
    "avila_test = pd.read_csv('avila-ts.txt', header = None, names = names)\n",
    "avila_test.head()"
   ]
  },
  {
   "cell_type": "code",
   "execution_count": 96,
   "metadata": {
    "scrolled": true
   },
   "outputs": [
    {
     "data": {
      "text/plain": [
       "(10437, 11)"
      ]
     },
     "execution_count": 96,
     "metadata": {},
     "output_type": "execute_result"
    }
   ],
   "source": [
    "avila_test.shape"
   ]
  },
  {
   "cell_type": "code",
   "execution_count": 97,
   "metadata": {
    "scrolled": true
   },
   "outputs": [
    {
     "data": {
      "text/html": [
       "<div>\n",
       "<style scoped>\n",
       "    .dataframe tbody tr th:only-of-type {\n",
       "        vertical-align: middle;\n",
       "    }\n",
       "\n",
       "    .dataframe tbody tr th {\n",
       "        vertical-align: top;\n",
       "    }\n",
       "\n",
       "    .dataframe thead th {\n",
       "        text-align: right;\n",
       "    }\n",
       "</style>\n",
       "<table border=\"1\" class=\"dataframe\">\n",
       "  <thead>\n",
       "    <tr style=\"text-align: right;\">\n",
       "      <th></th>\n",
       "      <th>n_unique</th>\n",
       "      <th>dtype</th>\n",
       "      <th>n_missing</th>\n",
       "      <th>pct_missing</th>\n",
       "    </tr>\n",
       "  </thead>\n",
       "  <tbody>\n",
       "    <tr>\n",
       "      <th>intercolumnar distance</th>\n",
       "      <td>143</td>\n",
       "      <td>float64</td>\n",
       "      <td>0</td>\n",
       "      <td>0.0</td>\n",
       "    </tr>\n",
       "    <tr>\n",
       "      <th>upper margin</th>\n",
       "      <td>204</td>\n",
       "      <td>float64</td>\n",
       "      <td>0</td>\n",
       "      <td>0.0</td>\n",
       "    </tr>\n",
       "    <tr>\n",
       "      <th>lower margin</th>\n",
       "      <td>230</td>\n",
       "      <td>float64</td>\n",
       "      <td>0</td>\n",
       "      <td>0.0</td>\n",
       "    </tr>\n",
       "    <tr>\n",
       "      <th>exploitation</th>\n",
       "      <td>748</td>\n",
       "      <td>float64</td>\n",
       "      <td>0</td>\n",
       "      <td>0.0</td>\n",
       "    </tr>\n",
       "    <tr>\n",
       "      <th>row number</th>\n",
       "      <td>47</td>\n",
       "      <td>float64</td>\n",
       "      <td>0</td>\n",
       "      <td>0.0</td>\n",
       "    </tr>\n",
       "    <tr>\n",
       "      <th>modular ratio</th>\n",
       "      <td>234</td>\n",
       "      <td>float64</td>\n",
       "      <td>0</td>\n",
       "      <td>0.0</td>\n",
       "    </tr>\n",
       "    <tr>\n",
       "      <th>interlinear spacing</th>\n",
       "      <td>229</td>\n",
       "      <td>float64</td>\n",
       "      <td>0</td>\n",
       "      <td>0.0</td>\n",
       "    </tr>\n",
       "    <tr>\n",
       "      <th>weight</th>\n",
       "      <td>10103</td>\n",
       "      <td>float64</td>\n",
       "      <td>0</td>\n",
       "      <td>0.0</td>\n",
       "    </tr>\n",
       "    <tr>\n",
       "      <th>peak number</th>\n",
       "      <td>258</td>\n",
       "      <td>float64</td>\n",
       "      <td>0</td>\n",
       "      <td>0.0</td>\n",
       "    </tr>\n",
       "    <tr>\n",
       "      <th>modular ratio/ interlinear spacing</th>\n",
       "      <td>9947</td>\n",
       "      <td>float64</td>\n",
       "      <td>0</td>\n",
       "      <td>0.0</td>\n",
       "    </tr>\n",
       "    <tr>\n",
       "      <th>class</th>\n",
       "      <td>12</td>\n",
       "      <td>object</td>\n",
       "      <td>0</td>\n",
       "      <td>0.0</td>\n",
       "    </tr>\n",
       "  </tbody>\n",
       "</table>\n",
       "</div>"
      ],
      "text/plain": [
       "                                    n_unique    dtype  n_missing  pct_missing\n",
       "intercolumnar distance                   143  float64          0          0.0\n",
       "upper margin                             204  float64          0          0.0\n",
       "lower margin                             230  float64          0          0.0\n",
       "exploitation                             748  float64          0          0.0\n",
       "row number                                47  float64          0          0.0\n",
       "modular ratio                            234  float64          0          0.0\n",
       "interlinear spacing                      229  float64          0          0.0\n",
       "weight                                 10103  float64          0          0.0\n",
       "peak number                              258  float64          0          0.0\n",
       "modular ratio/ interlinear spacing      9947  float64          0          0.0\n",
       "class                                     12   object          0          0.0"
      ]
     },
     "execution_count": 97,
     "metadata": {},
     "output_type": "execute_result"
    }
   ],
   "source": [
    "def snapshot(df):\n",
    "    n_missing = pd.DataFrame(df.isnull().sum(), columns = ['n_missing'])\n",
    "    pct_missing = pd.DataFrame(round(df.isnull().sum() / df.shape[0], 2), columns = ['pct_missing'])\n",
    "    dtype = pd.DataFrame(df.dtypes, columns = ['dtype'])\n",
    "    n_unique = []\n",
    "    for col in df.columns:\n",
    "        n_unique.append(df[col].nunique())    \n",
    "    return pd.DataFrame(n_unique, index = df.columns, columns = ['n_unique']).join(dtype).join(n_missing).join(pct_missing)\n",
    "\n",
    "snapshot = snapshot(avila_test)\n",
    "snapshot"
   ]
  },
  {
   "cell_type": "markdown",
   "metadata": {},
   "source": [
    "The table above shows that no missing value is found in this dataset. And there are 12 unique labels in target 'class'."
   ]
  },
  {
   "cell_type": "code",
   "execution_count": 99,
   "metadata": {
    "scrolled": true
   },
   "outputs": [
    {
     "data": {
      "image/png": "[encoded data removed]",
      "text/plain": [
       "<Figure size 576x432 with 1 Axes>"
      ]
     },
     "metadata": {
      "needs_background": "light"
     },
     "output_type": "display_data"
    }
   ],
   "source": [
    "def plot_single_categorical(df, col):\n",
    "    plt.figure(figsize = (8, 6))\n",
    "    plt.bar(x = df[col].value_counts().index, height = df[col].value_counts(), color = mcolors.TABLEAU_COLORS)\n",
    "    sns.despine(top = True)\n",
    "    n_level = df[col].nunique()\n",
    "    for x_coor in range(n_level):\n",
    "        plt.annotate(df[col].value_counts().iloc[x_coor], \n",
    "                     xy = (x_coor, \n",
    "                           df[col].value_counts().iloc[x_coor] + df[col].value_counts().iloc[0]/50))\n",
    "    plt.xticks(rotation = 0)\n",
    "    plt.grid()\n",
    "    plt.title(col)\n",
    "    plt.show()\n",
    "    \n",
    "plot_single_categorical(avila_test, 'class')"
   ]
  },
  {
   "cell_type": "markdown",
   "metadata": {},
   "source": [
    "The graph above shows that there are much more samples with target label 'A' than any other ones. \n",
    "The number of label 'A' samples is more than twice the one with label 'F', which is the second most."
   ]
  },
  {
   "cell_type": "code",
   "execution_count": 100,
   "metadata": {
    "scrolled": true
   },
   "outputs": [],
   "source": [
    "avila_test = pd.get_dummies(data = avila_test, columns = ['class'])"
   ]
  },
  {
   "cell_type": "code",
   "execution_count": 101,
   "metadata": {
    "scrolled": true
   },
   "outputs": [
    {
     "data": {
      "text/plain": [
       "Index(['intercolumnar distance', 'upper margin', 'lower margin',\n",
       "       'exploitation', 'row number', 'modular ratio', 'interlinear spacing',\n",
       "       'weight', 'peak number', 'modular ratio/ interlinear spacing',\n",
       "       'class_A', 'class_B', 'class_C', 'class_D', 'class_E', 'class_F',\n",
       "       'class_G', 'class_H', 'class_I', 'class_W', 'class_X', 'class_Y'],\n",
       "      dtype='object')"
      ]
     },
     "execution_count": 101,
     "metadata": {},
     "output_type": "execute_result"
    }
   ],
   "source": [
    "avila_test.columns"
   ]
  },
  {
   "cell_type": "code",
   "execution_count": 102,
   "metadata": {
    "scrolled": true
   },
   "outputs": [],
   "source": [
    "avila_test['class_A'] = avila_test['class_A'].astype(str)"
   ]
  },
  {
   "cell_type": "code",
   "execution_count": 113,
   "metadata": {
    "scrolled": false
   },
   "outputs": [],
   "source": [
    "def plot_single_categorical(df, col):\n",
    "    plt.figure(figsize = (4, 4))\n",
    "    plt.bar(x = df[col].value_counts().index, height = df[col].value_counts(), color = mcolors.TABLEAU_COLORS)\n",
    "    sns.despine(top = True)\n",
    "    n_level = df[col].nunique()\n",
    "    for x_coor in range(n_level):\n",
    "        plt.annotate(df[col].value_counts().iloc[x_coor], \n",
    "                     xy = (x_coor, \n",
    "                           df[col].value_counts().iloc[x_coor] + df[col].value_counts().iloc[0]/50))\n",
    "    plt.xticks(rotation = 0)\n",
    "    plt.grid()\n",
    "    plt.title(col)\n",
    "    print(f\"ratio of quantity in label 'A' samples to other samples: {round(df[col].value_counts()[1]/df[col].value_counts()[0], 2)}\")\n",
    "    plt.show()"
   ]
  },
  {
   "cell_type": "code",
   "execution_count": 114,
   "metadata": {
    "scrolled": true
   },
   "outputs": [
    {
     "name": "stdout",
     "output_type": "stream",
     "text": [
      "ratio of quantity in label 'A' samples to other samples: 0.7\n"
     ]
    },
    {
     "data": {
      "image/png": "[encoded data removed]",
      "text/plain": [
       "<Figure size 288x288 with 1 Axes>"
      ]
     },
     "metadata": {
      "needs_background": "light"
     },
     "output_type": "display_data"
    }
   ],
   "source": [
    "plot_single_categorical(avila_test, 'class_A')"
   ]
  },
  {
   "cell_type": "markdown",
   "metadata": {},
   "source": [
    "The graph above shows that the number of samples with label 'A' is less than half in the whole dataset. \n",
    "\n",
    "The ratio of quantity in label 'A' samples to other samples is 7:10."
   ]
  },
  {
   "cell_type": "code",
   "execution_count": 116,
   "metadata": {},
   "outputs": [],
   "source": [
    "X = avila_test[['exploitation']]\n",
    "y = avila_test['class_A'].astype(int)"
   ]
  },
  {
   "cell_type": "markdown",
   "metadata": {},
   "source": [
    "Load model to predict the target with the data in feature 'exploitation'"
   ]
  },
  {
   "cell_type": "code",
   "execution_count": 117,
   "metadata": {
    "scrolled": true
   },
   "outputs": [
    {
     "name": "stdout",
     "output_type": "stream",
     "text": [
      "              precision    recall  f1-score   support\n",
      "\n",
      "           0       1.00      1.00      1.00      6151\n",
      "           1       1.00      1.00      1.00      4286\n",
      "\n",
      "    accuracy                           1.00     10437\n",
      "   macro avg       1.00      1.00      1.00     10437\n",
      "weighted avg       1.00      1.00      1.00     10437\n",
      "\n"
     ]
    }
   ],
   "source": [
    "knn = joblib.load('knn.joblib')\n",
    "y_pred = knn.predict(X)\n",
    "print(classification_report(y, y_pred))"
   ]
  },
  {
   "cell_type": "markdown",
   "metadata": {},
   "source": [
    "Outcome: \n",
    "\n",
    "Among the 10437 samples which the model has never seen, every single target label has been predicted correctly by the model with a full mark measured by both 'precision' and 'recall'."
   ]
  }
 ],
 "metadata": {
  "kernelspec": {
   "display_name": "Python 3",
   "language": "python",
   "name": "python3"
  },
  "language_info": {
   "codemirror_mode": {
    "name": "ipython",
    "version": 3
   },
   "file_extension": ".py",
   "mimetype": "text/x-python",
   "name": "python",
   "nbconvert_exporter": "python",
   "pygments_lexer": "ipython3",
   "version": "3.7.7"
  }
 },
 "nbformat": 4,
 "nbformat_minor": 4
}
